{
 "cells": [
  {
   "cell_type": "code",
   "execution_count": 4,
   "metadata": {},
   "outputs": [],
   "source": [
    "import sys\n",
    "import os\n",
    "sys.path.append(os.path.abspath(os.path.join(os.getcwd(), '..')))"
   ]
  },
  {
   "cell_type": "code",
   "execution_count": 5,
   "metadata": {},
   "outputs": [],
   "source": [
    "api_key = os.environ.get(\"OPENAI_API_KEY\")"
   ]
  },
  {
   "cell_type": "code",
   "execution_count": 6,
   "metadata": {},
   "outputs": [
    {
     "name": "stdout",
     "output_type": "stream",
     "text": [
      "<openai.AsyncStream object at 0x16ad53fd0>\n"
     ]
    }
   ],
   "source": [
    "from src.core.data.prompts.prompt import Prompt, SystemPrompt, UserPrompt\n",
    "from src.core.data.prompts.prompt_settings import PromptSettings\n",
    "from src.core.data.structs.messages.message import Message\n",
    "from src.core.models.language.base.llm import LLM\n",
    "from src.core.agents.base.base_agent import Agent\n",
    "\n",
    "prompt_settings = PromptSettings(\n",
    "    temperature=0.5,\n",
    "    max_tokens=4096,\n",
    "    top_p=1,\n",
    "    frequency_penalty=0,\n",
    "    presence_penalty=0,\n",
    ")\n",
    "\n",
    "llm = LLM(\n",
    "    model_name=\"gpt-4o\",\n",
    "    is_async=True,\n",
    "    api_key=api_key,\n",
    "    prompt_settings=prompt_settings\n",
    ")\n",
    "\n",
    "agent = Agent(\n",
    "    name=\"Example Base Agent Henry\",\n",
    "    llm=llm,\n",
    "    prompt=Prompt(\n",
    "        name=\"chat\",\n",
    "        system_prompt=SystemPrompt(\n",
    "            name=\"chat\",\n",
    "            system_prompt=\"You are a deeply philosophical assistant and you are tasked with answering questions about the meaning of life.\",\n",
    "        ),\n",
    "        user_prompt=UserPrompt(\n",
    "            name=\"chat\",\n",
    "            user_prompt=\"What is the meaning of life?\",\n",
    "        ),\n",
    "        settings=prompt_settings,\n",
    "    ),\n",
    "    is_async=True\n",
    ")\n",
    "\n",
    "response = await agent(prompt=UserPrompt(\n",
    "    name=\"chat\",\n",
    "    user_prompt=\"What is the meaning of life?\",\n",
    "), messages=[\n",
    "    Message(\n",
    "        role=\"system\",\n",
    "        content=\"You are a deeply philosophical assistant and you are tasked with answering questions about the meaning of life.\",\n",
    "    ),\n",
    "    Message(\n",
    "        role=\"user\",\n",
    "        content=\"What is the meaning of life?\",\n",
    "    ),\n",
    "])\n",
    "\n",
    "print(response)\n"
   ]
  },
  {
   "cell_type": "code",
   "execution_count": null,
   "metadata": {},
   "outputs": [],
   "source": []
  }
 ],
 "metadata": {
  "kernelspec": {
   "display_name": "swarm",
   "language": "python",
   "name": "python3"
  },
  "language_info": {
   "codemirror_mode": {
    "name": "ipython",
    "version": 3
   },
   "file_extension": ".py",
   "mimetype": "text/x-python",
   "name": "python",
   "nbconvert_exporter": "python",
   "pygments_lexer": "ipython3",
   "version": "3.11.6"
  }
 },
 "nbformat": 4,
 "nbformat_minor": 2
}
