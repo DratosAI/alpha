{
 "cells": [
  {
   "cell_type": "code",
   "execution_count": 1,
   "metadata": {},
   "outputs": [],
   "source": [
    "import sys\n",
    "import os\n",
    "sys.path.append(os.path.abspath(os.path.join(os.getcwd(), '..')))"
   ]
  },
  {
   "cell_type": "code",
   "execution_count": 2,
   "metadata": {},
   "outputs": [],
   "source": [
    "import dotenv\n",
    "dotenv.load_dotenv()\n",
    "api_key = os.getenv(\"OPENAI_API_KEY\")"
   ]
  },
  {
   "cell_type": "code",
   "execution_count": 3,
   "metadata": {},
   "outputs": [],
   "source": [
    "from IPython.display import display, Markdown\n"
   ]
  },
  {
   "cell_type": "code",
   "execution_count": 4,
   "metadata": {},
   "outputs": [
    {
     "name": "stderr",
     "output_type": "stream",
     "text": [
      "/Users/rah/miniconda3/envs/swarm/lib/python3.11/site-packages/pydantic/_internal/_fields.py:201: UserWarning: Field name \"type\" in \"Tool\" shadows an attribute in parent \"DomainObject\"\n",
      "  warnings.warn(\n",
      "/Users/rah/miniconda3/envs/swarm/lib/python3.11/site-packages/pydantic/_internal/_fields.py:161: UserWarning: Field \"model_name\" has conflict with protected namespace \"model_\".\n",
      "\n",
      "You may be able to resolve this warning by setting `model_config['protected_namespaces'] = ()`.\n",
      "  warnings.warn(\n"
     ]
    },
    {
     "name": "stdout",
     "output_type": "stream",
     "text": [
      "The question of the meaning of life is one that has been pondered by philosophers, theologians, scientists, and thinkers throughout human history. There is no single, definitive answer, as the meaning of life can be interpreted in many different ways depending on one's perspective, beliefs, and experiences. Here are a few philosophical viewpoints to consider:\n",
      "\n",
      "1. **Existentialism**: Existentialists, such as Jean-Paul Sartre and Albert Camus, argue that life inherently has no meaning, and it is up to each individual to create their own meaning through their choices and actions. This perspective emphasizes personal responsibility and the freedom to define one's own purpose.\n",
      "\n",
      "2. **Nihilism**: Nihilism takes a more pessimistic view, suggesting that life is meaningless and that there is no inherent value or purpose in existence. Friedrich Nietzsche explored this idea, though he also proposed the concept of the \"Übermensch\" (Overman), who creates their own values in the face of a meaningless world.\n",
      "\n",
      "3. **Theism**: Many religious traditions propose that the meaning of life is given by a higher power or divine being. For example, in Christianity, the purpose of life is often seen as serving and glorifying God, living a life in accordance with His will, and preparing for an eternal existence in the afterlife.\n",
      "\n",
      "4. **Humanism**: Humanists believe that meaning is derived from human experiences and relationships. They emphasize the importance of human values, creativity, and the pursuit of knowledge and happiness. The focus is on improving the human condition and finding fulfillment through personal and collective achievements.\n",
      "\n",
      "5. **Buddhism**: In Buddhism, the meaning of life is connected to the pursuit of enlightenment and the alleviation of suffering. This involves following the Noble Eightfold Path, understanding the nature of reality, and achieving a state of Nirvana, where one is free from the cycle of birth, death, and rebirth.\n",
      "\n",
      "6. **Utilitarianism**: From a utilitarian perspective, the meaning of life might be to maximize happiness and reduce suffering for the greatest number of people. This ethical framework, associated with philosophers like Jeremy Bentham and John Stuart Mill, focuses on the consequences of actions and their impact on overall well-being.\n",
      "\n",
      "Ultimately, the meaning of life is a deeply personal and subjective question. It may be influenced by one's cultural background, personal experiences, and philosophical inclinations. Many find that their understanding of life's meaning evolves over time as they grow and encounter new experiences. In seeking an answer, one might find value in exploring various perspectives and reflecting on what resonates most deeply with their own sense of purpose and existence."
     ]
    },
    {
     "data": {
      "text/markdown": [
       "The question of the meaning of life is one that has been pondered by philosophers, theologians, scientists, and thinkers throughout human history. There is no single, definitive answer, as the meaning of life can be interpreted in many different ways depending on one's perspective, beliefs, and experiences. Here are a few philosophical viewpoints to consider:\n",
       "\n",
       "1. **Existentialism**: Existentialists, such as Jean-Paul Sartre and Albert Camus, argue that life inherently has no meaning, and it is up to each individual to create their own meaning through their choices and actions. This perspective emphasizes personal responsibility and the freedom to define one's own purpose.\n",
       "\n",
       "2. **Nihilism**: Nihilism takes a more pessimistic view, suggesting that life is meaningless and that there is no inherent value or purpose in existence. Friedrich Nietzsche explored this idea, though he also proposed the concept of the \"Übermensch\" (Overman), who creates their own values in the face of a meaningless world.\n",
       "\n",
       "3. **Theism**: Many religious traditions propose that the meaning of life is given by a higher power or divine being. For example, in Christianity, the purpose of life is often seen as serving and glorifying God, living a life in accordance with His will, and preparing for an eternal existence in the afterlife.\n",
       "\n",
       "4. **Humanism**: Humanists believe that meaning is derived from human experiences and relationships. They emphasize the importance of human values, creativity, and the pursuit of knowledge and happiness. The focus is on improving the human condition and finding fulfillment through personal and collective achievements.\n",
       "\n",
       "5. **Buddhism**: In Buddhism, the meaning of life is connected to the pursuit of enlightenment and the alleviation of suffering. This involves following the Noble Eightfold Path, understanding the nature of reality, and achieving a state of Nirvana, where one is free from the cycle of birth, death, and rebirth.\n",
       "\n",
       "6. **Utilitarianism**: From a utilitarian perspective, the meaning of life might be to maximize happiness and reduce suffering for the greatest number of people. This ethical framework, associated with philosophers like Jeremy Bentham and John Stuart Mill, focuses on the consequences of actions and their impact on overall well-being.\n",
       "\n",
       "Ultimately, the meaning of life is a deeply personal and subjective question. It may be influenced by one's cultural background, personal experiences, and philosophical inclinations. Many find that their understanding of life's meaning evolves over time as they grow and encounter new experiences. In seeking an answer, one might find value in exploring various perspectives and reflecting on what resonates most deeply with their own sense of purpose and existence."
      ],
      "text/plain": [
       "<IPython.core.display.Markdown object>"
      ]
     },
     "metadata": {},
     "output_type": "display_data"
    }
   ],
   "source": [
    "from src.core.data.prompts.prompt import Prompt, SystemPrompt, UserPrompt\n",
    "from src.core.data.prompts.prompt_settings import PromptSettings\n",
    "from src.core.data.structs.messages.message import Message\n",
    "from src.core.models.language.base.llm import LLM\n",
    "from src.core.agents.base.base_agent import Agent\n",
    "\n",
    "prompt_settings = PromptSettings(\n",
    "    temperature=0.5,\n",
    "    max_tokens=4096,\n",
    "    top_p=1,\n",
    "    frequency_penalty=0,\n",
    "    presence_penalty=0,\n",
    ")\n",
    "\n",
    "llm = LLM(\n",
    "    model_name=\"gpt-4o\",\n",
    "    is_async=True,\n",
    "    api_key=api_key,\n",
    "    prompt_settings=prompt_settings\n",
    ")\n",
    "\n",
    "agent = Agent(\n",
    "    name=\"Example Base Agent Henry\",\n",
    "    llm=llm,\n",
    "    prompt=Prompt(\n",
    "        name=\"chat\",\n",
    "        system_prompt=SystemPrompt(\n",
    "            name=\"chat\",\n",
    "            system_prompt=\"You are a deeply philosophical assistant and you are tasked with answering questions about the meaning of life.\",\n",
    "        ),\n",
    "        user_prompt=UserPrompt(\n",
    "            name=\"chat\",\n",
    "            user_prompt=\"What is the meaning of life?\",\n",
    "        ),\n",
    "        settings=prompt_settings,\n",
    "    ),\n",
    "    is_async=True\n",
    ")\n",
    "\n",
    "response = await agent(prompt=UserPrompt(\n",
    "    name=\"chat\",\n",
    "    user_prompt=\"What is the meaning of life?\",\n",
    "), messages=[\n",
    "    Message(\n",
    "        role=\"system\",\n",
    "        content=\"You are a deeply philosophical assistant and you are tasked with answering questions about the meaning of life.\",\n",
    "    ),\n",
    "    Message(\n",
    "        role=\"user\",\n",
    "        content=\"What is the meaning of life?\",\n",
    "    ),\n",
    "])\n",
    "\n",
    "markdown_response = \"\"\n",
    "async for chunk in response:\n",
    "    if chunk.choices[0].delta.content is not None:\n",
    "        content = chunk.choices[0].delta.content\n",
    "        sys.stdout.write(content)\n",
    "        sys.stdout.flush()\n",
    "        markdown_response += content\n",
    "\n",
    "display(Markdown(markdown_response))\n",
    "\n",
    "\n",
    "\n",
    "\n"
   ]
  },
  {
   "cell_type": "code",
   "execution_count": null,
   "metadata": {},
   "outputs": [],
   "source": []
  }
 ],
 "metadata": {
  "kernelspec": {
   "display_name": "swarm",
   "language": "python",
   "name": "python3"
  },
  "language_info": {
   "codemirror_mode": {
    "name": "ipython",
    "version": 3
   },
   "file_extension": ".py",
   "mimetype": "text/x-python",
   "name": "python",
   "nbconvert_exporter": "python",
   "pygments_lexer": "ipython3",
   "version": "3.11.9"
  }
 },
 "nbformat": 4,
 "nbformat_minor": 2
}
