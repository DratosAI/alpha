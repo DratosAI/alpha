{
 "cells": [
  {
   "cell_type": "code",
   "execution_count": 2,
   "metadata": {},
   "outputs": [],
   "source": [
    "import sys\n",
    "import os\n",
    "sys.path.append(os.path.abspath(os.path.join(os.getcwd(), '..')))"
   ]
  },
  {
   "cell_type": "code",
   "execution_count": 3,
   "metadata": {},
   "outputs": [],
   "source": [
    "api_key = \"sk-svcacct-GWQuvrcDm_vCk3uaf9Ap3QVT0DUwqhQlQh9mm2Qx5Ir1od7T3BlbkFJd6kh1nUuUsqyNpfUe0iqOImR0lCSqnZUG2CcqRyuqer0iAA\""
   ]
  },
  {
   "cell_type": "code",
   "execution_count": 4,
   "metadata": {},
   "outputs": [
    {
     "name": "stderr",
     "output_type": "stream",
     "text": [
      "/Users/rah/miniconda3/envs/swarm/lib/python3.11/site-packages/pydantic/_internal/_fields.py:201: UserWarning: Field name \"type\" in \"Tool\" shadows an attribute in parent \"DomainObject\"\n",
      "  warnings.warn(\n",
      "/Users/rah/miniconda3/envs/swarm/lib/python3.11/site-packages/pydantic/_internal/_fields.py:161: UserWarning: Field \"model_name\" has conflict with protected namespace \"model_\".\n",
      "\n",
      "You may be able to resolve this warning by setting `model_config['protected_namespaces'] = ()`.\n",
      "  warnings.warn(\n"
     ]
    },
    {
     "name": "stdout",
     "output_type": "stream",
     "text": [
      "The question of the meaning of life is one that has been pondered by philosophers, theologians, and thinkers for millennia, and it remains one of the most profound and enigmatic inquiries of human existence. Here are several perspectives that have emerged over time:\n",
      "\n",
      "1. **Existentialism**: Existentialist philosophers like Jean-Paul Sartre and Albert Camus argue that life inherently has no meaning, and it is up to each individual to create their own purpose through their choices and actions. This perspective emphasizes personal freedom, responsibility, and the subjective nature of meaning.\n",
      "\n",
      "2. **Religious and Spiritual Views**: Many religious traditions offer frameworks for understanding the meaning of life. For instance, in Christianity, life’s purpose is often seen as knowing, loving, and serving God. In Buddhism, the purpose is to attain enlightenment and escape the cycle of suffering and rebirth. Hinduism speaks of Dharma (duty/righteousness), Artha (prosperity), Kama (pleasure), and Moksha (liberation) as the four aims of life.\n",
      "\n",
      "3. **Humanism**: From a humanistic perspective, the meaning of life can be found in the pursuit of knowledge, the betterment of society, and the realization of human potential. Humanists often focus on the importance of human values, ethical living, and the interconnectedness of all people.\n",
      "\n",
      "4. **Nihilism**: Nihilism posits that life is without objective meaning, purpose, or intrinsic value. This can lead to a sense of despair, but some interpret it as a call to create one's own meaning in an indifferent universe.\n",
      "\n",
      "5. **Scientific Perspectives**: Some look to science for answers, suggesting that the meaning of life is to perpetuate our genes and ensure the survival of our species. This biological perspective focuses on evolution, reproduction, and the continuation of life as a fundamental purpose.\n",
      "\n",
      "6. **Psychological Views**: Psychologist Viktor Frankl, in his work \"Man's Search for Meaning,\" argues that the primary drive in human beings is to find meaning in life. He suggests that meaning can be found through work, relationships, and even suffering, by finding a purpose in the midst of it.\n",
      "\n",
      "Ultimately, the meaning of life may be a deeply personal question, with each individual finding their own answers based on their experiences, beliefs, and reflections. It is a journey that invites continuous exploration and redefinition."
     ]
    }
   ],
   "source": [
    "from src.core.data.prompts.prompt import Prompt, SystemPrompt, UserPrompt\n",
    "from src.core.data.prompts.prompt_settings import PromptSettings\n",
    "from src.core.data.structs.messages.message import Message\n",
    "from src.core.models.language.base.llm import LLM\n",
    "from src.core.agents.base.base_agent import Agent\n",
    "\n",
    "prompt_settings = PromptSettings(\n",
    "    temperature=0.5,\n",
    "    max_tokens=4096,\n",
    "    top_p=1,\n",
    "    frequency_penalty=0,\n",
    "    presence_penalty=0,\n",
    ")\n",
    "\n",
    "llm = LLM(\n",
    "    model_name=\"gpt-4o\",\n",
    "    is_async=True,\n",
    "    api_key=api_key,\n",
    "    prompt_settings=prompt_settings\n",
    ")\n",
    "\n",
    "agent = Agent(\n",
    "    name=\"Example Base Agent Henry\",\n",
    "    llm=llm,\n",
    "    prompt=Prompt(\n",
    "        name=\"chat\",\n",
    "        system_prompt=SystemPrompt(\n",
    "            name=\"chat\",\n",
    "            system_prompt=\"You are a deeply philosophical assistant and you are tasked with answering questions about the meaning of life.\",\n",
    "        ),\n",
    "        user_prompt=UserPrompt(\n",
    "            name=\"chat\",\n",
    "            user_prompt=\"What is the meaning of life?\",\n",
    "        ),\n",
    "        settings=prompt_settings,\n",
    "    ),\n",
    "    is_async=True\n",
    ")\n",
    "\n",
    "response = await agent(prompt=UserPrompt(\n",
    "    name=\"chat\",\n",
    "    user_prompt=\"What is the meaning of life?\",\n",
    "), messages=[\n",
    "    Message(\n",
    "        role=\"system\",\n",
    "        content=\"You are a deeply philosophical assistant and you are tasked with answering questions about the meaning of life.\",\n",
    "    ),\n",
    "    Message(\n",
    "        role=\"user\",\n",
    "        content=\"What is the meaning of life?\",\n",
    "    ),\n",
    "])\n",
    "\n",
    "async for chunk in response:\n",
    "    for choice in chunk.choices:\n",
    "        delta = choice.delta\n",
    "        content = getattr(delta, 'content', '')\n",
    "        if content:\n",
    "            print(content, end='')\n",
    "\n",
    "\n"
   ]
  },
  {
   "cell_type": "code",
   "execution_count": null,
   "metadata": {},
   "outputs": [],
   "source": []
  }
 ],
 "metadata": {
  "kernelspec": {
   "display_name": "swarm",
   "language": "python",
   "name": "python3"
  },
  "language_info": {
   "codemirror_mode": {
    "name": "ipython",
    "version": 3
   },
   "file_extension": ".py",
   "mimetype": "text/x-python",
   "name": "python",
   "nbconvert_exporter": "python",
   "pygments_lexer": "ipython3",
   "version": "3.11.9"
  }
 },
 "nbformat": 4,
 "nbformat_minor": 2
}
