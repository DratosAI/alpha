{
 "cells": [
  {
   "cell_type": "code",
   "execution_count": 31,
   "metadata": {},
   "outputs": [
    {
     "ename": "SyntaxError",
     "evalue": "non-default argument follows default argument (project.py, line 9)",
     "output_type": "error",
     "traceback": [
      "Traceback \u001b[0;36m(most recent call last)\u001b[0m:\n",
      "\u001b[0m  File \u001b[1;32m~/miniconda3/envs/swarm/lib/python3.11/site-packages/IPython/core/interactiveshell.py:3577\u001b[0m in \u001b[1;35mrun_code\u001b[0m\n    exec(code_obj, self.user_global_ns, self.user_ns)\u001b[0m\n",
      "\u001b[0m  Cell \u001b[1;32mIn[31], line 1\u001b[0m\n    from src.core.data.prompts import Prompt, PromptSettings\u001b[0m\n",
      "\u001b[0m  File \u001b[1;32m~/Dratos/alpha/src/core/data/__init__.py:2\u001b[0m\n    from .prompts.prompt import (\u001b[0m\n",
      "\u001b[0m  File \u001b[1;32m~/Dratos/alpha/src/core/data/prompts/__init__.py:1\u001b[0m\n    from .prompt import Prompt\u001b[0m\n",
      "\u001b[0m  File \u001b[1;32m~/Dratos/alpha/src/core/data/prompts/prompt.py:4\u001b[0m\n    from src.core.data.domain import DomainObject, DomainObjectAccessor, DomainObjectSelector\u001b[0m\n",
      "\u001b[0;36m  File \u001b[0;32m~/Dratos/alpha/src/core/data/domain/__init__.py:3\u001b[0;36m\n\u001b[0;31m    from .projects import experiment, project, task\u001b[0;36m\n",
      "\u001b[0;36m  File \u001b[0;32m~/Dratos/alpha/src/core/data/domain/projects/project.py:9\u001b[0;36m\u001b[0m\n\u001b[0;31m    description,\u001b[0m\n\u001b[0m    ^\u001b[0m\n\u001b[0;31mSyntaxError\u001b[0m\u001b[0;31m:\u001b[0m non-default argument follows default argument\n"
     ]
    }
   ],
   "source": [
    "from src.core.data.prompts import Prompt, PromptSettings\n",
    "from src.core.models.language.base.llm import LLM\n",
    "from src.core.agents.base import Agent\n",
    "\n",
    "llm = LLM(\n",
    "    model_name=\"gemini-pro-flash-free\",\n",
    ")\n",
    "\n",
    "prompt_settings = PromptSettings(\n",
    "    temperature=0.5,\n",
    "    max_tokens=20000,\n",
    "    top_p=1,\n",
    "    frequency_penalty=0,\n",
    "    presence_penalty=0,\n",
    ")\n",
    "\n",
    "agent = Agent(\n",
    "    name=\"Example Base Agent Henry\",\n",
    "    llm=llm,\n",
    "    prompt=Prompt(\n",
    "        name=\"chat\",\n",
    "        system_prompt=\"You are a helpful assistant\",\n",
    "        user_prompt=\"What is the meaning of life?\",\n",
    "        settings=prompt_settings,\n",
    "    ),\n",
    ")\n",
    "\n",
    "agent()\n"
   ]
  },
  {
   "cell_type": "code",
   "execution_count": null,
   "metadata": {},
   "outputs": [],
   "source": []
  }
 ],
 "metadata": {
  "kernelspec": {
   "display_name": "swarm",
   "language": "python",
   "name": "python3"
  },
  "language_info": {
   "codemirror_mode": {
    "name": "ipython",
    "version": 3
   },
   "file_extension": ".py",
   "mimetype": "text/x-python",
   "name": "python",
   "nbconvert_exporter": "python",
   "pygments_lexer": "ipython3",
   "version": "3.11.6"
  }
 },
 "nbformat": 4,
 "nbformat_minor": 2
}
