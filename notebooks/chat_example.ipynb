{
 "cells": [
  {
   "cell_type": "code",
   "execution_count": 28,
   "metadata": {},
   "outputs": [],
   "source": [
    "import sys\n",
    "import os\n",
    "sys.path.append(os.path.abspath(os.path.join(os.getcwd(), '..')))"
   ]
  },
  {
   "cell_type": "code",
   "execution_count": 29,
   "metadata": {},
   "outputs": [],
   "source": [
    "api_key = \"sk-svcacct-ZjcXAulw5Fsn3P1yztNqTHwHUui5ZlngvquOh_YS2AalnAnT3BlbkFJmDup-WUGGy8f7071TCBMHxIVdRHIT1b8J_TWGtPfqClyLAA\""
   ]
  },
  {
   "cell_type": "code",
   "execution_count": 30,
   "metadata": {},
   "outputs": [
    {
     "name": "stdout",
     "output_type": "stream",
     "text": [
      "The question of the meaning of life is one of the most profound and enduring inquiries in human history. It has been approached from various angles—philosophical, religious, scientific, and existential. Here are a few perspectives:\n",
      "\n",
      "1. **Philosophical Perspectives**:\n",
      "   - **Existentialism**: Existentialist thinkers like Jean-Paul Sartre and Albert Camus argue that life inherently has no meaning, and it is up to each individual to create their own meaning through their choices and actions.\n",
      "   - **Absurdism**: Camus, in particular, discusses the \"absurd\"—the conflict between humans' desire to find meaning and the silent, indifferent universe. He suggests that we must accept this absurdity and continue to live passionately.\n",
      "   - **Nihilism**: This perspective, often associated with Friedrich Nietzsche, posits that life lacks inherent meaning, purpose, or value. However, Nietzsche also speaks of the possibility of creating one's own values through the concept of the Übermensch (Overman).\n",
      "\n",
      "2. **Religious Perspectives**:\n",
      "   - **Christianity**: Many Christians believe that the meaning of life is to know, love, and serve God. Life is seen as a test or a journey towards eternal salvation.\n",
      "   - **Buddhism**: In Buddhism, the meaning of life is often related to the cessation of suffering (dukkha) through the Eightfold Path, leading to enlightenment (nirvana).\n",
      "   - **Hinduism**: Hindu beliefs suggest that life’s purpose is to achieve dharma (duty/ethics), artha (prosperity/work), kama (desires/passions), and moksha (liberation from the cycle of rebirth).\n",
      "\n",
      "3. **Scientific Perspectives**:\n",
      "   - **Evolutionary Biology**: From a biological standpoint, the purpose of life can be seen as the propagation of genes and the survival of species. Richard Dawkins, in \"The Selfish Gene,\" argues that our behaviors and purposes can be understood in terms of gene survival.\n",
      "   - **Cosmology**: The scientific view of life often doesn't address meaning in a philosophical sense but seeks to understand the mechanisms and origins of life in the universe.\n",
      "\n",
      "4. **Personal and Subjective Perspectives**:\n",
      "   - Many people find meaning through personal experiences, relationships, creativity, and self-fulfillment. Viktor Frankl, in his book \"Man's Search for Meaning,\" emphasizes that meaning can be found in every moment of living, even in suffering.\n",
      "\n",
      "Ultimately, the meaning of life may not be a one-size-fits-all answer but a deeply personal journey. It may involve a synthesis of these perspectives or a unique path that resonates with one's experiences, beliefs, and values."
     ]
    }
   ],
   "source": [
    "from src.core.data.prompts.prompt import Prompt, SystemPrompt, UserPrompt\n",
    "from src.core.data.prompts.prompt_settings import PromptSettings\n",
    "from src.core.data.structs.messages.message import Message\n",
    "from src.core.models.language.base.llm import LLM\n",
    "from src.core.agents.base.base_agent import Agent\n",
    "\n",
    "prompt_settings = PromptSettings(\n",
    "    temperature=0.5,\n",
    "    max_tokens=4096,\n",
    "    top_p=1,\n",
    "    frequency_penalty=0,\n",
    "    presence_penalty=0,\n",
    ")\n",
    "\n",
    "llm = LLM(\n",
    "    model_name=\"gpt-4o\",\n",
    "    is_async=True,\n",
    "    api_key=api_key,\n",
    "    prompt_settings=prompt_settings\n",
    ")\n",
    "\n",
    "agent = Agent(\n",
    "    name=\"Example Base Agent Henry\",\n",
    "    llm=llm,\n",
    "    prompt=Prompt(\n",
    "        name=\"chat\",\n",
    "        system_prompt=SystemPrompt(\n",
    "            name=\"chat\",\n",
    "            system_prompt=\"You are a deeply philosophical assistant and you are tasked with answering questions about the meaning of life.\",\n",
    "        ),\n",
    "        user_prompt=UserPrompt(\n",
    "            name=\"chat\",\n",
    "            user_prompt=\"What is the meaning of life?\",\n",
    "        ),\n",
    "        settings=prompt_settings,\n",
    "    ),\n",
    "    is_async=True\n",
    ")\n",
    "\n",
    "response = await agent(prompt=UserPrompt(\n",
    "    name=\"chat\",\n",
    "    user_prompt=\"What is the meaning of life?\",\n",
    "), messages=[\n",
    "    Message(\n",
    "        role=\"system\",\n",
    "        content=\"You are a deeply philosophical assistant and you are tasked with answering questions about the meaning of life.\",\n",
    "    ),\n",
    "    Message(\n",
    "        role=\"user\",\n",
    "        content=\"What is the meaning of life?\",\n",
    "    ),\n",
    "])\n",
    "\n",
    "async for chunk in response:\n",
    "    for choice in chunk.choices:\n",
    "        delta = choice.delta\n",
    "        content = getattr(delta, 'content', '')\n",
    "        if content:\n",
    "            print(content, end='')\n",
    "\n",
    "\n"
   ]
  },
  {
   "cell_type": "code",
   "execution_count": null,
   "metadata": {},
   "outputs": [],
   "source": []
  }
 ],
 "metadata": {
  "kernelspec": {
   "display_name": "swarm",
   "language": "python",
   "name": "python3"
  },
  "language_info": {
   "codemirror_mode": {
    "name": "ipython",
    "version": 3
   },
   "file_extension": ".py",
   "mimetype": "text/x-python",
   "name": "python",
   "nbconvert_exporter": "python",
   "pygments_lexer": "ipython3",
   "version": "3.11.6"
  }
 },
 "nbformat": 4,
 "nbformat_minor": 2
}
