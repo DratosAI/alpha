{
 "cells": [
  {
   "cell_type": "code",
   "execution_count": null,
   "metadata": {},
   "outputs": [],
   "source": [
    "from src.core.data.prompts import Prompt, PromptSettings\n",
    "from src.core.models.language.base.llm import LLM\n",
    "from src.core.agents.base import Agent\n",
    "\n",
    "llm = LLM(\n",
    "    model_name=\"openai/gpt-4o\",\n",
    ")\n",
    "\n",
    "prompt_settings = PromptSettings(\n",
    "    temperature=0.5,\n",
    "    max_tokens=20000,\n",
    "    top_p=1,\n",
    "    frequency_penalty=0,\n",
    "    presence_penalty=0,\n",
    ")\n",
    "\n",
    "agent = Agent(\n",
    "    name=\"chat\",\n",
    "    llm=llm,\n",
    "    prompt=Prompt(\n",
    "        name=\"chat\",\n",
    "        system_prompt=\"You are a helpful assistant\",\n",
    "        user_prompt=\"What is the meaning of life?\",\n",
    "        settings=prompt_settings,\n",
    "    ),\n",
    ")\n",
    "\n",
    "agent\n"
   ]
  }
 ],
 "metadata": {
  "kernelspec": {
   "display_name": "swarm",
   "language": "python",
   "name": "python3"
  },
  "language_info": {
   "name": "python",
   "version": "3.11.9"
  }
 },
 "nbformat": 4,
 "nbformat_minor": 2
}
